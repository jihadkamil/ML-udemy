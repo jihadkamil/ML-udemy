{
  "nbformat": 4,
  "nbformat_minor": 0,
  "metadata": {
    "colab": {
      "name": "Regression-02-Polynomial.ipynb",
      "provenance": [],
      "collapsed_sections": [],
      "toc_visible": true,
      "authorship_tag": "ABX9TyPhwcDGJKSvJtW+/wkiENlL",
      "include_colab_link": true
    },
    "kernelspec": {
      "name": "python3",
      "display_name": "Python 3"
    }
  },
  "cells": [
    {
      "cell_type": "markdown",
      "metadata": {
        "id": "view-in-github",
        "colab_type": "text"
      },
      "source": [
        "<a href=\"https://colab.research.google.com/github/jihadkamil/MLearning/blob/master/Regression_02_Polynomial.ipynb\" target=\"_parent\"><img src=\"https://colab.research.google.com/assets/colab-badge.svg\" alt=\"Open In Colab\"/></a>"
      ]
    },
    {
      "cell_type": "markdown",
      "metadata": {
        "id": "9PvLciIs5Wkz",
        "colab_type": "text"
      },
      "source": [
        "#Polynomial Regression"
      ]
    },
    {
      "cell_type": "markdown",
      "metadata": {
        "id": "3IBrte_45bY1",
        "colab_type": "text"
      },
      "source": [
        "importing the libraries\n"
      ]
    },
    {
      "cell_type": "code",
      "metadata": {
        "id": "bJLbF__f53Qi",
        "colab_type": "code",
        "colab": {}
      },
      "source": [
        "import numpy as np\n",
        "import pandas as pd\n",
        "import matplotlib.pyplot as plt"
      ],
      "execution_count": 0,
      "outputs": []
    },
    {
      "cell_type": "markdown",
      "metadata": {
        "id": "spH8foMa5dPT",
        "colab_type": "text"
      },
      "source": [
        "importing the dataset"
      ]
    },
    {
      "cell_type": "code",
      "metadata": {
        "id": "gtDQeD1_6NIn",
        "colab_type": "code",
        "colab": {}
      },
      "source": [
        "dataset = pd.read_csv('Position_Salaries.csv')\n",
        "x = dataset.iloc[:,1:-1].values\n",
        "print(x)\n",
        "y = dataset.iloc[:,-1].values\n",
        "print(y)"
      ],
      "execution_count": 0,
      "outputs": []
    },
    {
      "cell_type": "markdown",
      "metadata": {
        "id": "Qw8JIXBK5emb",
        "colab_type": "text"
      },
      "source": [
        "training The Linear Regression on the whole dataset"
      ]
    },
    {
      "cell_type": "code",
      "metadata": {
        "id": "Il3_Yaen6-b2",
        "colab_type": "code",
        "colab": {}
      },
      "source": [
        "from sklearn.linear_model import LinearRegression\n",
        "lin_reg = LinearRegression()\n",
        "lin_reg.fit(x,y) #the x value is should be in array 2D"
      ],
      "execution_count": 0,
      "outputs": []
    },
    {
      "cell_type": "markdown",
      "metadata": {
        "id": "6i7oKweI5kXB",
        "colab_type": "text"
      },
      "source": [
        "training The Polynomial (Linear) Regression on the whole dataset"
      ]
    },
    {
      "cell_type": "code",
      "metadata": {
        "id": "Kw1AlaQY7svx",
        "colab_type": "code",
        "colab": {
          "base_uri": "https://localhost:8080/",
          "height": 34
        },
        "outputId": "b9d183c9-9ca0-4a48-a689-87efb7e23a7f"
      },
      "source": [
        "from sklearn.preprocessing import PolynomialFeatures\n",
        "from sklearn.linear_model import LinearRegression\n",
        "lin_poly_reg = LinearRegression()\n",
        "poly_reg = PolynomialFeatures(degree=5)\n",
        "x_poly = poly_reg.fit_transform(x) # print(x_poly)print(x)\n",
        "lin_poly_reg.fit(x_poly,y)\n",
        "print(lin_poly_reg)"
      ],
      "execution_count": 33,
      "outputs": [
        {
          "output_type": "stream",
          "text": [
            "LinearRegression(copy_X=True, fit_intercept=True, n_jobs=None, normalize=False)\n"
          ],
          "name": "stdout"
        }
      ]
    },
    {
      "cell_type": "markdown",
      "metadata": {
        "id": "iAH6t8wJ5oal",
        "colab_type": "text"
      },
      "source": [
        "visualize linear regression results"
      ]
    },
    {
      "cell_type": "code",
      "metadata": {
        "id": "7nPdEuVRWfIW",
        "colab_type": "code",
        "colab": {}
      },
      "source": [
        "plt.scatter(x,y,color='blue')\n",
        "y_pred = lin_reg.predict(x)\n",
        "plt.plot(x,y_pred,color='red')\n",
        "plt.title('salary vs level')\n",
        "plt.ylabel('salary')\n",
        "plt.xlabel('level')\n",
        "plt.show()"
      ],
      "execution_count": 0,
      "outputs": []
    },
    {
      "cell_type": "markdown",
      "metadata": {
        "id": "3YQf0u9t5rsh",
        "colab_type": "text"
      },
      "source": [
        "visualize polynomial regression results"
      ]
    },
    {
      "cell_type": "code",
      "metadata": {
        "id": "JGuJ5qiTXExL",
        "colab_type": "code",
        "colab": {}
      },
      "source": [
        "plt.scatter(x,y,color='blue')\n",
        "y_poly_pred = lin_poly_reg.predict(x_poly)\n",
        "# print(x_poly)\n",
        "plt.plot(x,y_poly_pred,color='red')\n",
        "plt.title('salary vs level (poly)')\n",
        "plt.ylabel('salary')\n",
        "plt.xlabel('level')\n",
        "plt.show()"
      ],
      "execution_count": 0,
      "outputs": []
    },
    {
      "cell_type": "markdown",
      "metadata": {
        "id": "nFuPF2Vu5wbV",
        "colab_type": "text"
      },
      "source": [
        "visualize polynomial regression results (higher resolution and smoother curve) "
      ]
    },
    {
      "cell_type": "code",
      "metadata": {
        "id": "45i9AKNFYvRG",
        "colab_type": "code",
        "colab": {
          "base_uri": "https://localhost:8080/",
          "height": 295
        },
        "outputId": "20baad48-ce71-49c9-fa65-ffd334d86fba"
      },
      "source": [
        "x_grid = np.arange(min(x),max(x),0.1)\n",
        "x_grid = x_grid.reshape(len(x_grid),1)\n",
        "# print(x_grid) print(x)\n",
        "plt.scatter(x,y,color='red')\n",
        "x_grid_transform = poly_reg.fit_transform(x_grid)\n",
        "# print(x_grid_transform)\n",
        "y_poly_pred_2 = lin_poly_reg.predict(x_grid_transform)\n",
        "plt.plot(x_grid,y_poly_pred_2,color='blue')\n",
        "\n",
        "plt.title('salary vs experiences (higher resolution)')\n",
        "plt.xlabel('levels')\n",
        "plt.ylabel('salaries')\n",
        "plt.show()"
      ],
      "execution_count": 54,
      "outputs": [
        {
          "output_type": "display_data",
          "data": {
            "image/png": "[encoded data removed]",
            "text/plain": [
              "<Figure size 432x288 with 1 Axes>"
            ]
          },
          "metadata": {
            "tags": [],
            "needs_background": "light"
          }
        }
      ]
    },
    {
      "cell_type": "markdown",
      "metadata": {
        "id": "RPL8EZTp58LP",
        "colab_type": "text"
      },
      "source": [
        "predicting new variable w/ linear regression"
      ]
    },
    {
      "cell_type": "code",
      "metadata": {
        "id": "sDc3rmhFbeX0",
        "colab_type": "code",
        "colab": {
          "base_uri": "https://localhost:8080/",
          "height": 34
        },
        "outputId": "0fa2f0f5-877c-455d-e8f4-b5a665dd3ade"
      },
      "source": [
        "hissalaries = lin_reg.predict([[6.5]])\n",
        "print('hissalaries',hissalaries)"
      ],
      "execution_count": 59,
      "outputs": [
        {
          "output_type": "stream",
          "text": [
            "hissalaries [330378.78787879]\n"
          ],
          "name": "stdout"
        }
      ]
    },
    {
      "cell_type": "markdown",
      "metadata": {
        "id": "8CiHeVyv5-3v",
        "colab_type": "text"
      },
      "source": [
        "predicting new variable w/ polynomial regression"
      ]
    },
    {
      "cell_type": "code",
      "metadata": {
        "id": "rhTFYKjRboVY",
        "colab_type": "code",
        "colab": {
          "base_uri": "https://localhost:8080/",
          "height": 34
        },
        "outputId": "22bf5d11-8dd0-4782-ce16-5e4ba0105fa9"
      },
      "source": [
        "hissalaries_poly = lin_poly_reg.predict(poly_reg.fit_transform([[6.5]]))\n",
        "print('hissalaries_poly',hissalaries_poly)"
      ],
      "execution_count": 63,
      "outputs": [
        {
          "output_type": "stream",
          "text": [
            "hissalaries_poly [174878.07765172]\n"
          ],
          "name": "stdout"
        }
      ]
    }
  ]
}
