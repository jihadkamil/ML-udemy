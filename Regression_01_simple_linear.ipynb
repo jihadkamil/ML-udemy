{
  "nbformat": 4,
  "nbformat_minor": 0,
  "metadata": {
    "colab": {
      "name": "Regression-01-simple-linear.ipynb",
      "provenance": [],
      "collapsed_sections": [],
      "authorship_tag": "ABX9TyMNZ5ZWyKGMtd+ASnr25Jkd",
      "include_colab_link": true
    },
    "kernelspec": {
      "name": "python3",
      "display_name": "Python 3"
    }
  },
  "cells": [
    {
      "cell_type": "markdown",
      "metadata": {
        "id": "view-in-github",
        "colab_type": "text"
      },
      "source": [
        "<a href=\"https://colab.research.google.com/github/jihadkamil/ML-udemy/blob/master/Regression_01_simple_linear.ipynb\" target=\"_parent\"><img src=\"https://colab.research.google.com/assets/colab-badge.svg\" alt=\"Open In Colab\"/></a>"
      ]
    },
    {
      "cell_type": "markdown",
      "metadata": {
        "id": "BQr5STngbNEr",
        "colab_type": "text"
      },
      "source": [
        "importing libraries"
      ]
    },
    {
      "cell_type": "code",
      "metadata": {
        "id": "cTiRtbDIWwLQ",
        "colab_type": "code",
        "colab": {}
      },
      "source": [
        "import numpy as np\n",
        "import matplotlib.pyplot as plt\n",
        "import pandas as pd"
      ],
      "execution_count": 0,
      "outputs": []
    },
    {
      "cell_type": "markdown",
      "metadata": {
        "id": "7bbrjT-JbgeD",
        "colab_type": "text"
      },
      "source": [
        "importing the datasets"
      ]
    },
    {
      "cell_type": "code",
      "metadata": {
        "id": "dytoSONmbiaE",
        "colab_type": "code",
        "colab": {}
      },
      "source": [
        "dataset = pd.read_csv('Salary_Data.csv')\n",
        "x = dataset.iloc[:,:-1].values\n",
        "y = dataset.iloc[:,-1].values"
      ],
      "execution_count": 0,
      "outputs": []
    },
    {
      "cell_type": "code",
      "metadata": {
        "id": "ftnk9rewcVJ5",
        "colab_type": "code",
        "colab": {}
      },
      "source": [
        "print(y)"
      ],
      "execution_count": 0,
      "outputs": []
    },
    {
      "cell_type": "code",
      "metadata": {
        "id": "atppJMyvcUDr",
        "colab_type": "code",
        "colab": {}
      },
      "source": [
        "print(x)"
      ],
      "execution_count": 0,
      "outputs": []
    },
    {
      "cell_type": "markdown",
      "metadata": {
        "id": "x8hsEPYwcbGv",
        "colab_type": "text"
      },
      "source": [
        "splitting dataset into training data and testing data"
      ]
    },
    {
      "cell_type": "code",
      "metadata": {
        "id": "b6FeUcMncf8R",
        "colab_type": "code",
        "colab": {}
      },
      "source": [
        "from sklearn.model_selection import train_test_split\n",
        "x_train,x_test,y_train,y_test = train_test_split(x,y,test_size=0.2,random_state=0)"
      ],
      "execution_count": 0,
      "outputs": []
    },
    {
      "cell_type": "code",
      "metadata": {
        "id": "W_PYFMARflnN",
        "colab_type": "code",
        "colab": {}
      },
      "source": [
        "print(x_train)"
      ],
      "execution_count": 0,
      "outputs": []
    },
    {
      "cell_type": "code",
      "metadata": {
        "id": "It4Kp_UhfoIR",
        "colab_type": "code",
        "colab": {}
      },
      "source": [
        "print(x_test)"
      ],
      "execution_count": 0,
      "outputs": []
    },
    {
      "cell_type": "markdown",
      "metadata": {
        "id": "sTtXpvnOdGCU",
        "colab_type": "text"
      },
      "source": [
        "training the simple linear regression model on the training set"
      ]
    },
    {
      "cell_type": "code",
      "metadata": {
        "id": "9YO2hT5ieCkw",
        "colab_type": "code",
        "colab": {}
      },
      "source": [
        "from sklearn.linear_model import LinearRegression\n",
        "regressor = LinearRegression()\n",
        "regressor.fit(x_train,y_train)"
      ],
      "execution_count": 0,
      "outputs": []
    },
    {
      "cell_type": "markdown",
      "metadata": {
        "id": "g4LagK25dM5L",
        "colab_type": "text"
      },
      "source": [
        "predicting the test result"
      ]
    },
    {
      "cell_type": "code",
      "metadata": {
        "id": "oZcRkRAlfWa_",
        "colab_type": "code",
        "colab": {}
      },
      "source": [
        "y_pred = regressor.predict(x_test)"
      ],
      "execution_count": 0,
      "outputs": []
    },
    {
      "cell_type": "code",
      "metadata": {
        "id": "RclQwgEDgesd",
        "colab_type": "code",
        "colab": {}
      },
      "source": [
        "print(x_test)\n",
        "print(y_pred)"
      ],
      "execution_count": 0,
      "outputs": []
    },
    {
      "cell_type": "markdown",
      "metadata": {
        "id": "Cf2XDrg4dPeB",
        "colab_type": "text"
      },
      "source": [
        "visualize the train result"
      ]
    },
    {
      "cell_type": "code",
      "metadata": {
        "id": "TeYUvPKAg2v0",
        "colab_type": "code",
        "colab": {}
      },
      "source": [
        "plt.scatter(x_train,y_train,color='blue')\n",
        "y_train_pred = regressor.predict(x_train)\n",
        "plt.plot(x_train,y_train_pred,color='red')\n",
        "plt.title('salary vs experiences (training set)')\n",
        "plt.ylabel('salary')\n",
        "plt.xlabel('experiences')\n",
        "plt.show()"
      ],
      "execution_count": 0,
      "outputs": []
    },
    {
      "cell_type": "markdown",
      "metadata": {
        "id": "moSI6oA-dSGb",
        "colab_type": "text"
      },
      "source": [
        "visualize the test result"
      ]
    },
    {
      "cell_type": "code",
      "metadata": {
        "id": "sa1KFUhThELA",
        "colab_type": "code",
        "colab": {}
      },
      "source": [
        "plt.scatter(x_test,y_test,color='blue')\n",
        "plt.plot(x_train,y_train_pred,color='red') #its a same model w/ the test model\n",
        "plt.title('salary vs experiences (test set)')\n",
        "plt.ylabel('salary')\n",
        "plt.xlabel('experiences')"
      ],
      "execution_count": 0,
      "outputs": []
    },
    {
      "cell_type": "markdown",
      "metadata": {
        "id": "t-DhaOyDkHtQ",
        "colab_type": "text"
      },
      "source": [
        "try a single prediction"
      ]
    },
    {
      "cell_type": "code",
      "metadata": {
        "id": "9rtLCobnkV4t",
        "colab_type": "code",
        "colab": {}
      },
      "source": [
        "mysalary = regressor.predict([[12]])\n",
        "# Notice that the value of the feature (12 years) was input in a double pair of square brackets. That's because the \"predict\" method always expects a 2D array as the format of its inputs.\n",
        "# print(x_test) checking the array 2D\n",
        "print(mysalary)"
      ],
      "execution_count": 0,
      "outputs": []
    },
    {
      "cell_type": "markdown",
      "metadata": {
        "id": "_dSSSG8NkKUN",
        "colab_type": "text"
      },
      "source": [
        "getting final linear regression equation w/ the values of coefficients"
      ]
    },
    {
      "cell_type": "code",
      "metadata": {
        "id": "0p1nTM2Fkz0f",
        "colab_type": "code",
        "colab": {
          "base_uri": "https://localhost:8080/",
          "height": 51
        },
        "outputId": "034af575-0d06-40c3-e5bd-a88462e256dc"
      },
      "source": [
        "b0 =regressor.intercept_\n",
        "b1 = regressor.coef_\n",
        "print('final function')\n",
        "print('Salary = ', b0, '+',b1,'*YearsExperience' )"
      ],
      "execution_count": 45,
      "outputs": [
        {
          "output_type": "stream",
          "text": [
            "final function\n",
            "Salary =  26780.09915062818 + [9312.57512673] *YearsExperience\n"
          ],
          "name": "stdout"
        }
      ]
    }
  ]
}