{
  "nbformat": 4,
  "nbformat_minor": 0,
  "metadata": {
    "colab": {
      "name": "regression_05_decision_tree.ipynb",
      "provenance": [],
      "authorship_tag": "ABX9TyPO1CZNmWU1LkvAyjX/XPKD",
      "include_colab_link": true
    },
    "kernelspec": {
      "name": "python3",
      "display_name": "Python 3"
    }
  },
  "cells": [
    {
      "cell_type": "markdown",
      "metadata": {
        "id": "view-in-github",
        "colab_type": "text"
      },
      "source": [
        "<a href=\"https://colab.research.google.com/github/jihadkamil/MLearning/blob/master/regression_05_decision_tree.ipynb\" target=\"_parent\"><img src=\"https://colab.research.google.com/assets/colab-badge.svg\" alt=\"Open In Colab\"/></a>"
      ]
    },
    {
      "cell_type": "markdown",
      "metadata": {
        "id": "lWat_K4NwSZP",
        "colab_type": "text"
      },
      "source": [
        "#decision tree regression "
      ]
    },
    {
      "cell_type": "markdown",
      "metadata": {
        "id": "WWboM1b2wUxH",
        "colab_type": "text"
      },
      "source": [
        "importing the libraries"
      ]
    },
    {
      "cell_type": "code",
      "metadata": {
        "id": "NYVL1ivJw2xz",
        "colab_type": "code",
        "colab": {}
      },
      "source": [
        "import numpy as np\n",
        "import pandas as pd\n",
        "import matplotlib.pyplot as plt"
      ],
      "execution_count": 0,
      "outputs": []
    },
    {
      "cell_type": "markdown",
      "metadata": {
        "id": "6uSqvnW6wo5c",
        "colab_type": "text"
      },
      "source": [
        "importing the dataset"
      ]
    },
    {
      "cell_type": "code",
      "metadata": {
        "id": "EvoQ0f6CxLcA",
        "colab_type": "code",
        "colab": {}
      },
      "source": [
        "dataset = pd.read_csv('Position_Salaries.csv')\n",
        "x = dataset.iloc[:,1:-1].values\n",
        "y = dataset.iloc[:,-1].values"
      ],
      "execution_count": 0,
      "outputs": []
    },
    {
      "cell_type": "markdown",
      "metadata": {
        "id": "nW3nzYUSwsxG",
        "colab_type": "text"
      },
      "source": [
        "training the decision tree regression model on the whole dataset"
      ]
    },
    {
      "cell_type": "code",
      "metadata": {
        "id": "r4HRZltEyRNT",
        "colab_type": "code",
        "colab": {
          "base_uri": "https://localhost:8080/",
          "height": 119
        },
        "outputId": "952fa48e-56ea-4595-e4fb-e5636c600735"
      },
      "source": [
        "from sklearn.tree import DecisionTreeRegressor\n",
        "\n",
        "dsregressor = DecisionTreeRegressor()\n",
        "dsregressor.fit(x,y)\n"
      ],
      "execution_count": 15,
      "outputs": [
        {
          "output_type": "execute_result",
          "data": {
            "text/plain": [
              "DecisionTreeRegressor(ccp_alpha=0.0, criterion='mse', max_depth=None,\n",
              "                      max_features=None, max_leaf_nodes=None,\n",
              "                      min_impurity_decrease=0.0, min_impurity_split=None,\n",
              "                      min_samples_leaf=1, min_samples_split=2,\n",
              "                      min_weight_fraction_leaf=0.0, presort='deprecated',\n",
              "                      random_state=None, splitter='best')"
            ]
          },
          "metadata": {
            "tags": []
          },
          "execution_count": 15
        }
      ]
    },
    {
      "cell_type": "markdown",
      "metadata": {
        "id": "_ipmATmgwxNZ",
        "colab_type": "text"
      },
      "source": [
        "predicting new result"
      ]
    },
    {
      "cell_type": "code",
      "metadata": {
        "id": "kRBy_2ORzI8g",
        "colab_type": "code",
        "colab": {
          "base_uri": "https://localhost:8080/",
          "height": 105
        },
        "outputId": "cdc4cb35-fafa-453c-c5f0-3f9c00d13c4a"
      },
      "source": [
        "hissalaries = dsregressor.predict(x)\n",
        "# print(\"hisssalaries\",hissalaries)\n",
        "# print(\"yyyy\",y)"
      ],
      "execution_count": 18,
      "outputs": [
        {
          "output_type": "stream",
          "text": [
            "hisssalaries [  45000.   50000.   60000.   80000.  110000.  150000.  200000.  300000.\n",
            "  500000. 1000000.]\n",
            "yyyy [  45000   50000   60000   80000  110000  150000  200000  300000  500000\n",
            " 1000000]\n"
          ],
          "name": "stdout"
        }
      ]
    },
    {
      "cell_type": "markdown",
      "metadata": {
        "id": "yrM9Px_Kw80E",
        "colab_type": "text"
      },
      "source": [
        "visualizing the decision tree regression results (higher resolution)"
      ]
    },
    {
      "cell_type": "code",
      "metadata": {
        "id": "JKOEsVxG0fme",
        "colab_type": "code",
        "colab": {
          "base_uri": "https://localhost:8080/",
          "height": 295
        },
        "outputId": "aa69624d-f6c7-4f3b-9395-ec0f07cadf8d"
      },
      "source": [
        "x_plot = np.arange(min(x),max(x),0.1)\n",
        "x_plot = x_plot.reshape((len(x_plot),1))\n",
        "\n",
        "plt.scatter(x,y,color='orange')\n",
        "plt.plot(x_plot,dsregressor.predict(x_plot),color='blue')\n",
        "plt.title('decision tree regression',color='pink')\n",
        "plt.ylabel('salary', color='yellow')\n",
        "plt.xlabel('level',color='yellow')\n",
        "plt.show()"
      ],
      "execution_count": 31,
      "outputs": [
        {
          "output_type": "display_data",
          "data": {
            "image/png": "[encoded data removed]",
            "text/plain": [
              "<Figure size 432x288 with 1 Axes>"
            ]
          },
          "metadata": {
            "tags": [],
            "needs_background": "light"
          }
        }
      ]
    }
  ]
}