{
  "nbformat": 4,
  "nbformat_minor": 0,
  "metadata": {
    "colab": {
      "name": "Regression-04-Support-Vector.ipynb",
      "provenance": [],
      "toc_visible": true,
      "authorship_tag": "ABX9TyOJxO3LEWktwHxVmfuxW9Il",
      "include_colab_link": true
    },
    "kernelspec": {
      "name": "python3",
      "display_name": "Python 3"
    }
  },
  "cells": [
    {
      "cell_type": "markdown",
      "metadata": {
        "id": "view-in-github",
        "colab_type": "text"
      },
      "source": [
        "<a href=\"https://colab.research.google.com/github/jihadkamil/MLearning/blob/master/Regression_04_Support_Vector.ipynb\" target=\"_parent\"><img src=\"https://colab.research.google.com/assets/colab-badge.svg\" alt=\"Open In Colab\"/></a>"
      ]
    },
    {
      "cell_type": "markdown",
      "metadata": {
        "id": "nhCSHPZc5gMp",
        "colab_type": "text"
      },
      "source": [
        "#Support Vector Regression"
      ]
    },
    {
      "cell_type": "markdown",
      "metadata": {
        "id": "A_fxDErv4lrY",
        "colab_type": "text"
      },
      "source": [
        "importing the libraries"
      ]
    },
    {
      "cell_type": "code",
      "metadata": {
        "id": "09vqRk-r6DTw",
        "colab_type": "code",
        "colab": {}
      },
      "source": [
        "import numpy as np\n",
        "import pandas as pd\n",
        "import matplotlib.pyplot as plt"
      ],
      "execution_count": 0,
      "outputs": []
    },
    {
      "cell_type": "markdown",
      "metadata": {
        "id": "4cbAWRSu4nhW",
        "colab_type": "text"
      },
      "source": [
        "importing the dataset"
      ]
    },
    {
      "cell_type": "code",
      "metadata": {
        "id": "lGNR8yys6Jjx",
        "colab_type": "code",
        "colab": {}
      },
      "source": [
        "dataset = pd.read_csv('Position_Salaries.csv')\n",
        "x = dataset.iloc[:,1:-1].values\n",
        "y = dataset.iloc[:,-1].values\n",
        "print (x)\n",
        "print('--------------')\n",
        "print(y)\n",
        "y_inverse=y.reshape(len(y),1)\n",
        "print(y_inverse)"
      ],
      "execution_count": 0,
      "outputs": []
    },
    {
      "cell_type": "markdown",
      "metadata": {
        "id": "p24QpXwp4oqP",
        "colab_type": "text"
      },
      "source": [
        "feature scaling"
      ]
    },
    {
      "cell_type": "code",
      "metadata": {
        "id": "2dSHUhT87Ivg",
        "colab_type": "code",
        "outputId": "837b7269-0a67-4dfc-f115-ad08a65e6b7d",
        "colab": {
          "base_uri": "https://localhost:8080/",
          "height": 51
        }
      },
      "source": [
        "from sklearn.preprocessing import StandardScaler\n",
        "sc_x = StandardScaler()\n",
        "sc_y = StandardScaler()\n",
        "x_fs = sc_x.fit_transform(x)\n",
        "y_fs = sc_y.fit_transform(y_inverse)\n",
        "y_fs2d = y_fs.flatten() \n",
        "\n",
        "# print (y_fs2d)\n"
      ],
      "execution_count": 10,
      "outputs": [
        {
          "output_type": "stream",
          "text": [
            "[-0.72004253 -0.70243757 -0.66722767 -0.59680786 -0.49117815 -0.35033854\n",
            " -0.17428902  0.17781001  0.88200808  2.64250325]\n"
          ],
          "name": "stdout"
        }
      ]
    },
    {
      "cell_type": "markdown",
      "metadata": {
        "id": "2HxGbxcF4qUV",
        "colab_type": "text"
      },
      "source": [
        "training the SVR model on the whole dataset"
      ]
    },
    {
      "cell_type": "code",
      "metadata": {
        "id": "sO1iIm9rBKui",
        "colab_type": "code",
        "colab": {
          "base_uri": "https://localhost:8080/",
          "height": 105
        },
        "outputId": "3f7ac59a-8a62-4829-ee5b-a8e8d419f46e"
      },
      "source": [
        "from sklearn.svm import SVR\n",
        "regressor = SVR(kernel='rbf')\n",
        "regressor.fit(x_fs,y_fs)"
      ],
      "execution_count": 5,
      "outputs": [
        {
          "output_type": "stream",
          "text": [
            "/usr/local/lib/python3.6/dist-packages/sklearn/utils/validation.py:760: DataConversionWarning: A column-vector y was passed when a 1d array was expected. Please change the shape of y to (n_samples, ), for example using ravel().\n",
            "  y = column_or_1d(y, warn=True)\n"
          ],
          "name": "stderr"
        },
        {
          "output_type": "execute_result",
          "data": {
            "text/plain": [
              "SVR(C=1.0, cache_size=200, coef0=0.0, degree=3, epsilon=0.1, gamma='scale',\n",
              "    kernel='rbf', max_iter=-1, shrinking=True, tol=0.001, verbose=False)"
            ]
          },
          "metadata": {
            "tags": []
          },
          "execution_count": 5
        }
      ]
    },
    {
      "cell_type": "markdown",
      "metadata": {
        "id": "BUO6iCLRD4Gm",
        "colab_type": "text"
      },
      "source": [
        "visualize svr result"
      ]
    },
    {
      "cell_type": "code",
      "metadata": {
        "id": "oScAREaCD3qv",
        "colab_type": "code",
        "outputId": "4999605f-dc33-45c4-ae38-743f9d9c70b7",
        "colab": {
          "base_uri": "https://localhost:8080/",
          "height": 295
        }
      },
      "source": [
        "plt.scatter(x_fs,y_fs,color='red')\n",
        "plt.plot(x_fs,regressor.predict(x_fs), color='blue')\n",
        "plt.title('Jujur atau tidak (SVR)',color='yellow')\n",
        "plt.ylabel('gaji',color='yellow')\n",
        "plt.xlabel('tingkat posisi',color='yellow')\n",
        "plt.show()"
      ],
      "execution_count": 15,
      "outputs": [
        {
          "output_type": "display_data",
          "data": {
            "image/png": "[encoded data removed]",
            "text/plain": [
              "<Figure size 432x288 with 1 Axes>"
            ]
          },
          "metadata": {
            "tags": [],
            "needs_background": "light"
          }
        }
      ]
    },
    {
      "cell_type": "markdown",
      "metadata": {
        "id": "THq57Qbx4tU-",
        "colab_type": "text"
      },
      "source": [
        "predicting new results"
      ]
    },
    {
      "cell_type": "code",
      "metadata": {
        "id": "7vZVm6kPGdvi",
        "colab_type": "code",
        "outputId": "cc52647a-d270-4df1-f951-e967749bfd89",
        "colab": {
          "base_uri": "https://localhost:8080/",
          "height": 34
        }
      },
      "source": [
        "# using sc_x.transform: set the prediction variable into the same scale w/ the model\n",
        "# using sc_y.inverse: to get the real value, not scaled value\n",
        "sc_y.inverse_transform(regressor.predict(sc_x.transform([[6.5]]))) "
      ],
      "execution_count": 0,
      "outputs": [
        {
          "output_type": "execute_result",
          "data": {
            "text/plain": [
              "array([170370.0204065])"
            ]
          },
          "metadata": {
            "tags": []
          },
          "execution_count": 41
        }
      ]
    },
    {
      "cell_type": "markdown",
      "metadata": {
        "id": "UwkPjySm40H0",
        "colab_type": "text"
      },
      "source": [
        "visualizing the SVR result"
      ]
    },
    {
      "cell_type": "code",
      "metadata": {
        "id": "JyQWgN0-NGBv",
        "colab_type": "code",
        "colab": {}
      },
      "source": [
        ""
      ],
      "execution_count": 0,
      "outputs": []
    },
    {
      "cell_type": "markdown",
      "metadata": {
        "id": "3ObZ6ZkF41_u",
        "colab_type": "text"
      },
      "source": [
        "visualizing the SVR results (for higher resolution & smoother curve)"
      ]
    }
  ]
}