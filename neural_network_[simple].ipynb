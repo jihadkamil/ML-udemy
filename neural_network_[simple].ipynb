{
  "nbformat": 4,
  "nbformat_minor": 0,
  "metadata": {
    "colab": {
      "name": "neural-network [simple].ipynb",
      "provenance": [],
      "authorship_tag": "ABX9TyNOSQUS3uwv06GdhT7+0PFh",
      "include_colab_link": true
    },
    "kernelspec": {
      "name": "python3",
      "display_name": "Python 3"
    }
  },
  "cells": [
    {
      "cell_type": "markdown",
      "metadata": {
        "id": "view-in-github",
        "colab_type": "text"
      },
      "source": [
        "<a href=\"https://colab.research.google.com/github/jihadkamil/MLearning/blob/master/neural_network_%5Bsimple%5D.ipynb\" target=\"_parent\"><img src=\"https://colab.research.google.com/assets/colab-badge.svg\" alt=\"Open In Colab\"/></a>"
      ]
    },
    {
      "cell_type": "markdown",
      "metadata": {
        "id": "VWE0EcZVTKX-"
      },
      "source": [
        "Neural Network\n"
      ]
    },
    {
      "cell_type": "code",
      "metadata": {
        "id": "PPmk5-vmTCcA"
      },
      "source": [
        "# importing tensorflow\n",
        "import tensorflow as tf\n",
        "from tensorflow import keras"
      ],
      "execution_count": 3,
      "outputs": []
    },
    {
      "cell_type": "code",
      "metadata": {
        "id": "RfGNJ5VGTa78"
      },
      "source": [
        "# neural net\n",
        "model = tf.keras.Sequential([keras.layers.Dense(units=1, input_shape=[1])])\n",
        "model.compile(optimizer='sgd', loss='mean_squared_error')\n"
      ],
      "execution_count": 4,
      "outputs": []
    },
    {
      "cell_type": "markdown",
      "metadata": {
        "id": "hHUpoehbUafz"
      },
      "source": [
        "input daata"
      ]
    },
    {
      "cell_type": "code",
      "metadata": {
        "id": "m8cwsPypUcUV"
      },
      "source": [
        "num_of_flats = (1,2,3,4,5,6,7,8)\n",
        "price_of_house = (10000,20000,30000,40000,50000,60000,70000,80000)"
      ],
      "execution_count": 5,
      "outputs": []
    },
    {
      "cell_type": "markdown",
      "metadata": {
        "id": "-EJWfBsAUqw2"
      },
      "source": [
        "training neural net"
      ]
    },
    {
      "cell_type": "code",
      "metadata": {
        "id": "CmoNOPdSUsZB"
      },
      "source": [
        "model.fit(num_of_flats, price_of_house, epochs=600)"
      ],
      "execution_count": null,
      "outputs": []
    },
    {
      "cell_type": "markdown",
      "metadata": {
        "id": "HtPybjMRU8ax"
      },
      "source": [
        "predicting the price of a house with some flats more than 8"
      ]
    },
    {
      "cell_type": "code",
      "metadata": {
        "colab": {
          "base_uri": "https://localhost:8080/"
        },
        "id": "92JHPAJcVEV4",
        "outputId": "fc8d9167-06d2-4e55-bf26-c03150008181"
      },
      "source": [
        "print(model.predict([10]))\n",
        "print(model.predict([14]))\n",
        "print(model.predict([13]))\n",
        "print(model.predict([12]))\n",
        "print(model.predict([11]))"
      ],
      "execution_count": 8,
      "outputs": [
        {
          "output_type": "stream",
          "text": [
            "[[99878.23]]\n",
            "[[139766.97]]\n",
            "[[129794.77]]\n",
            "[[119822.586]]\n",
            "[[109850.41]]\n"
          ],
          "name": "stdout"
        }
      ]
    }
  ]
}